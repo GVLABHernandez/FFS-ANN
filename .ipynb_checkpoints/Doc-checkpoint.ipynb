{
 "cells": [
  {
   "cell_type": "markdown",
   "metadata": {},
   "source": [
    "# FFS-ANN"
   ]
  },
  {
   "cell_type": "markdown",
   "metadata": {},
   "source": [
    "## *Force Feasible Set prediction with artificial neural network and musculoskeletal model*"
   ]
  },
  {
   "cell_type": "markdown",
   "metadata": {},
   "source": [
    "This repository was done with Tensorflow v1.0"
   ]
  },
  {
   "cell_type": "markdown",
   "metadata": {},
   "source": [
    "## Import"
   ]
  },
  {
   "cell_type": "code",
   "execution_count": 6,
   "metadata": {
    "collapsed": true
   },
   "outputs": [],
   "source": [
    "import pandas as pd\n",
    "import numpy as np\n",
    "import matplotlib.pyplot as plt\n",
    "import tensorflow as tf\n",
    "from itertools import chain\n",
    "from sklearn import linear_model\n",
    "from sklearn.metrics import r2_score"
   ]
  },
  {
   "cell_type": "markdown",
   "metadata": {},
   "source": [
    "### Get Data"
   ]
  },
  {
   "cell_type": "code",
   "execution_count": 7,
   "metadata": {
    "collapsed": true
   },
   "outputs": [],
   "source": [
    "def get_data(testName):\n",
    "\n",
    "    df = pd.read_csv('Data/TestData.csv', sep = ';')\n",
    "    df.dropna(how = 'any')\n",
    "    inPutName = ['shoulder0_X', 'shoulder0_Y', 'shoulder0_Z', 'elbow_X', 'elbow_Y', 'elbow_Z',\n",
    "                 'wrist_hand_X', 'wrist_hand_Y', 'wrist_hand_Z', 'EF_X', 'EF_Y', 'EF_Z', 'SubjectMass']\n",
    "    dataInput = df[inPutName].as_matrix()\n",
    "\n",
    "    if testName == 'Index':\n",
    "        outPutName = ['Max', 'Volume', 'Isotropy', 'MainAxis_X', 'MainAxis_Y', 'MainAxis_Z']\n",
    "    else:\n",
    "        if testName == 'Vertex45':\n",
    "            angle = 45\n",
    "            nVertex = 26\n",
    "        elif testName == 'Vertex35':\n",
    "            angle = 35\n",
    "            nVertex = 56\n",
    "        elif testName == 'Vertex25':\n",
    "            angle = 25\n",
    "            nVertex = 106\n",
    "        elif testName == 'Vertex15':\n",
    "            angle = 15\n",
    "            nVertex = 266\n",
    "\n",
    "        outPutName = list(chain.from_iterable([['Theta_' + str(angle) + '_V' + str(s + 1) + '_N'] for s in range(nVertex)]))\n",
    "\n",
    "    dataOutput = df[outPutName].as_matrix()\n",
    "\n",
    "    return dataInput, dataOutput, outPutName, inPutName"
   ]
  },
  {
   "cell_type": "markdown",
   "metadata": {},
   "source": [
    "### Various functions"
   ]
  },
  {
   "cell_type": "code",
   "execution_count": 8,
   "metadata": {
    "collapsed": true
   },
   "outputs": [],
   "source": [
    "def standardize_data(data):\n",
    "    std = []\n",
    "    mean = []\n",
    "    dataOut = data.copy()\n",
    "\n",
    "    for i in range(0, len(data[0])):\n",
    "        std.append(np.std(data[:, i], ddof = 1))\n",
    "        mean.append(np.mean(data[:, i]))\n",
    "        dataOut[:, i] = (data[:, i] - mean[i]) / std[i]\n",
    "\n",
    "    dataOut[np.isnan(dataOut)] = 0\n",
    "\n",
    "    return dataOut, mean, std\n",
    "\n",
    "def reverse_standardize_data(data, mean, std):\n",
    "    dataOut = data.copy()\n",
    "\n",
    "    for i in range(0, len(data[0])):\n",
    "        dataOut[:, i] = (data[:, i] * std[i]) + mean[i]\n",
    "\n",
    "    return dataOut\n",
    "\n",
    "def standardize_data_2(data, mean, std):\n",
    "\n",
    "    dataOut = data.copy()\n",
    "\n",
    "    for i in range(0, len(data[0])):\n",
    "        dataOut[:, i] = (data[:, i] - mean[i]) / std[i]\n",
    "\n",
    "    return dataOut\n",
    "\n",
    "def scatter_regresion_Plot(X, Y, testName):\n",
    "\n",
    "    plt.scatter(X, Y, c = 'b', label = '_nolegend_', s = 1)\n",
    "\n",
    "    X = X.reshape(-1, 1)\n",
    "    Y = Y.reshape(-1, 1)\n",
    "    R2 = r2_score(X, Y)\n",
    "\n",
    "    regr = linear_model.LinearRegression()\n",
    "    regr.fit(X, Y)\n",
    "    plt.plot(X, regr.predict(X), \"--\", label = 'Regression', color = 'r')\n",
    "    plt.title(testName + ' ($R^2$: ' + \"{0:.3f}\".format(R2) + \")\", fontsize = 14)\n",
    "    plt.xlabel('True Values', fontsize = 12, weight = 'bold')\n",
    "    plt.ylabel('Predicted Values', fontsize = 12, weight = 'bold')\n",
    "    plt.legend(loc = 'upper left', bbox_to_anchor = (0, 1.0), fancybox = True, shadow = True, fontsize = 10)\n",
    "    plt.subplots_adjust(left = 0.2, right = 0.9, bottom = 0.05, top = 0.97, wspace = 0.15, hspace = 0.3)"
   ]
  },
  {
   "cell_type": "markdown",
   "metadata": {},
   "source": [
    "### Neural Network class"
   ]
  },
  {
   "cell_type": "code",
   "execution_count": 9,
   "metadata": {
    "collapsed": true
   },
   "outputs": [],
   "source": [
    "class NN_Class:\n",
    "\n",
    "    def __init__(self, rootFolder = 'ANN/', testName = 'Vertex15'):\n",
    "\n",
    "        self.rootFolder = rootFolder\n",
    "        self.testName = testName\n",
    "\n",
    "    def set_NN_properties(self, inputSize, layersSize, outputSize, activationFunction = 'sigmoid'):\n",
    "\n",
    "        self.inputSize = inputSize\n",
    "        self.outputSize = outputSize\n",
    "        self.layersSize = layersSize\n",
    "        self.N_Layers = len(layersSize)\n",
    "        self.activationFunction = activationFunction\n",
    "        self.topology = [[inputSize, layersSize, outputSize], [activationFunction]]\n",
    "\n",
    "        self.saveFolder = self.rootFolder + \"NN_\" + '_'.join(\n",
    "            str(layersSize[i]) for i in range(self.N_Layers)) + \"_\" + '_'.join(\n",
    "            activationFunction) + '_' + self.testName + '/'\n",
    "        self.ANNPath = self.saveFolder + 'ANN'\n",
    "        self.meanStdInputPath = self.saveFolder + 'meanStdInput' + self.testName + '.csv'\n",
    "        self.meanStdOutputPath = self.saveFolder + 'meanStdOutput' + self.testName + '.csv'\n",
    "\n",
    "        print('topology: ' + str(self.topology) + ' - Saved in / loaded from: ' + self.saveFolder)\n",
    "\n",
    "    def load_neural_network(self):\n",
    "\n",
    "        meanStdInput = pd.read_csv(self.meanStdInputPath, sep = ',').set_index('Unnamed: 0').as_matrix()\n",
    "        self.meanInput = np.array(meanStdInput[0])\n",
    "        self.stdInput = np.array(meanStdInput[1])\n",
    "        meanStdOutput = pd.read_csv(self.meanStdOutputPath, sep = ',').set_index('Unnamed: 0').as_matrix()\n",
    "        self.meanOutput = np.array(meanStdOutput[0])\n",
    "        self.stdOutput = np.array(meanStdOutput[1])\n",
    "\n",
    "        tf.reset_default_graph()\n",
    "\n",
    "        with tf.Graph().as_default(), tf.Session() as self.sess:\n",
    "\n",
    "            self.x = tf.placeholder('float32', [None, self.inputSize])  # Input Tensor\n",
    "            self.y_ = tf.placeholder('float32', [None, self.outputSize])  # Output Tensor\n",
    "            self.create_NN()\n",
    "            self.sess.run(tf.global_variables_initializer())\n",
    "            self.sess = tf.Session(config = tf.ConfigProto(log_device_placement = True))\n",
    "            saver = tf.train.Saver()\n",
    "            saver = tf.train.import_meta_graph(self.ANNPath + '.meta')\n",
    "            saver.restore(self.sess, self.ANNPath)\n",
    "            print('Artificial Neural Network from: ' + self.saveFolder + ' loaded !')\n",
    "\n",
    "    def create_NN(self):\n",
    "\n",
    "        l = self.create_layers(self.x, self.inputSize, self.layersSize[0], activation = self.activationFunction[0])\n",
    "        if self.N_Layers > 1:\n",
    "            for i in range(self.N_Layers - 1):\n",
    "                l = self.create_layers(l, self.layersSize[i - 1], self.layersSize[i],\n",
    "                                       activation = self.activationFunction[i])\n",
    "\n",
    "        self.y = self.create_layers(l, self.layersSize[-1], self.outputSize, activation = 'None')\n",
    "\n",
    "    def create_layers(self, inputs, in_size, out_size, activation = 'sigmoid'):\n",
    "\n",
    "        w = tf.Variable(tf.random_normal([in_size, out_size]))\n",
    "        b = tf.Variable(tf.random_normal([out_size]))\n",
    "        l = tf.add(tf.matmul(inputs, w), b)\n",
    "\n",
    "        if activation == 'sigmoid':\n",
    "            l = tf.nn.sigmoid(l)\n",
    "        else:\n",
    "            l = l\n",
    "        return l\n",
    "\n",
    "    def use_neural_network(self, X):\n",
    "\n",
    "        Input_data = {self.x: X}\n",
    "        predictions = self.sess.run(self.y, feed_dict = Input_data)\n",
    "        predicted_Y = np.array(predictions).astype('float32')\n",
    "        predicted_Y = reverse_standardize_data(predicted_Y, self.meanOutput, self.stdOutput)\n",
    "\n",
    "        return predicted_Y"
   ]
  },
  {
   "cell_type": "markdown",
   "metadata": {},
   "source": [
    "### Main and plot"
   ]
  },
  {
   "cell_type": "code",
   "execution_count": null,
   "metadata": {},
   "outputs": [
    {
     "name": "stdout",
     "output_type": "stream",
     "text": [
      "topology: [[13, [50, 50, 50], 6], [['sigmoid', 'sigmoid', 'sigmoid']]] - Saved in / loaded from: ANN/NN_50_50_50_sigmoid_sigmoid_sigmoid_Index/\n"
     ]
    }
   ],
   "source": [
    "\n",
    "tests = ['Index', 'Vertex45', 'Vertex35', 'Vertex25', 'Vertex15']\n",
    "for test in tests:\n",
    "    inputSize = 13\n",
    "    if test == 'Index':\n",
    "        fig = plt.figure(figsize = (14, 10))\n",
    "        outputSize = 6\n",
    "        layersSize = [50, 50, 50]\n",
    "        activationFunction = ['sigmoid', 'sigmoid', 'sigmoid']\n",
    "        IndexName = ['Maximal force (N)', 'Volume $N^3$', 'Isotropy', 'Main Axis X', 'Main Axis Y', 'Main Axis Z']\n",
    "    elif test == 'Vertex45':\n",
    "        fig = plt.figure(figsize = (14, 10))\n",
    "        plt.subplot(2, 2, 1)\n",
    "        outputSize = 26\n",
    "        layersSize = [100, 100, 100]\n",
    "        activationFunction = ['sigmoid', 'sigmoid', 'sigmoid']\n",
    "    elif test == 'Vertex35':\n",
    "        plt.subplot(2, 2, 2)\n",
    "        outputSize = 56\n",
    "        layersSize = [200, 200, 200]\n",
    "        activationFunction = ['sigmoid', 'sigmoid', 'sigmoid']\n",
    "    elif test == 'Vertex25':\n",
    "        plt.subplot(2, 2, 3)\n",
    "        outputSize = 106\n",
    "        layersSize = [100, 100, 100]\n",
    "        activationFunction = ['sigmoid', 'sigmoid', 'sigmoid']\n",
    "    elif test == 'Vertex15':\n",
    "        plt.subplot(2, 2, 4)\n",
    "        outputSize = 266\n",
    "        layersSize = [200, 200, 200]\n",
    "        activationFunction = ['sigmoid', 'sigmoid', 'sigmoid']\n",
    "\n",
    "    ########################### Load NN ############################\n",
    "\n",
    "    dataInput, dataOutput, outPutName, inPutName = get_data(testName = test)\n",
    "    inputSize, n_samples, outputSize = len(dataInput[0]), len(dataInput), len(dataOutput[0])\n",
    "    NN = NN_Class(rootFolder = 'ANN/', testName = test)\n",
    "    NN.set_NN_properties(inputSize, layersSize, outputSize, activationFunction)\n",
    "    NN.load_neural_network()\n",
    "\n",
    "    X = standardize_data_2(dataInput, NN.meanInput, NN.stdInput)\n",
    "    Y_true = dataOutput\n",
    "    Y_predicted = NN.use_neural_network(X)\n",
    "\n",
    "    ########################### Regression and plot ###################################\n",
    "\n",
    "    if test == 'Index':\n",
    "        for i in range(len(IndexName)):\n",
    "            plt.subplot(3, 2, i + 1)\n",
    "            scatter_regresion_Plot(Y_true[:, i], Y_predicted[:, i], IndexName[i])\n",
    "            axes = plt.gca()\n",
    "    else:\n",
    "        scatter_regresion_Plot(Y_true[:, :], Y_predicted[:, :], test)\n",
    "        axes = plt.gca()\n",
    "        axes.set_xlim([-10, 1000])\n",
    "        axes.set_ylim([-10, 1000])"
   ]
  },
  {
   "cell_type": "code",
   "execution_count": null,
   "metadata": {
    "collapsed": true
   },
   "outputs": [],
   "source": []
  }
 ],
 "metadata": {
  "kernelspec": {
   "display_name": "Python 3",
   "language": "python",
   "name": "python3"
  },
  "language_info": {
   "codemirror_mode": {
    "name": "ipython",
    "version": 3
   },
   "file_extension": ".py",
   "mimetype": "text/x-python",
   "name": "python",
   "nbconvert_exporter": "python",
   "pygments_lexer": "ipython3",
   "version": "3.5.3"
  }
 },
 "nbformat": 4,
 "nbformat_minor": 2
}
