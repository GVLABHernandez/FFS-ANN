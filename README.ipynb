{
 "cells": [
  {
   "cell_type": "markdown",
   "metadata": {},
   "source": [
    "# FFS-ANN"
   ]
  },
  {
   "cell_type": "markdown",
   "metadata": {},
   "source": [
    "## *Force Feasible Set prediction with artificial neural network and musculoskeletal model*"
   ]
  },
  {
   "cell_type": "markdown",
   "metadata": {},
   "source": [
    "Use tensorflow-gpu 1.1.0"
   ]
  },
  {
   "cell_type": "markdown",
   "metadata": {},
   "source": [
    "In this repository, you can fin: \n",
    "\n",
    "    - A sample of the dataset used in this study\n",
    "    - 5 differents Artificial Neural Networks (ANN)\n",
    "    - A python script (Main.py)\n",
    "    \n",
    "Main.py include everything necessary to load the different ANN, test the dataset and plot the predicted values in function of the true values.\n",
    "\n",
    "Don't forget to cite this study if it was useful to you."
   ]
  }
 ],
 "metadata": {
  "kernelspec": {
   "display_name": "Python 3",
   "language": "python",
   "name": "python3"
  },
  "language_info": {
   "codemirror_mode": {
    "name": "ipython",
    "version": 3
   },
   "file_extension": ".py",
   "mimetype": "text/x-python",
   "name": "python",
   "nbconvert_exporter": "python",
   "pygments_lexer": "ipython3",
   "version": "3.5.3"
  }
 },
 "nbformat": 4,
 "nbformat_minor": 1
}
